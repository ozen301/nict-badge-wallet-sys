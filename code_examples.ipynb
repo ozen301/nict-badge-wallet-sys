{
 "cells": [
  {
   "cell_type": "markdown",
   "id": "a6abb875",
   "metadata": {},
   "source": [
    "# NICT Badge & Wallet System — Code Examples\n",
    "\n",
    "Welcome! This notebook provides practical code examples for using the NICT Badge & Wallet System. You'll learn how to:\n",
    "- Work with database models (see `nictbw/models`)\n",
    "- Interact with the blockchain client (see `nictbw/blockchain`)\n",
    "\n",
    "## Before You Start\n",
    "- Set up your Python environment as described in the [Quick Start](./README.md#quick-start) section of the README.\n",
    "- Initialize and seed the database (see [README.md](./README.md)).\n",
    "\n",
    "---"
   ]
  },
  {
   "cell_type": "markdown",
   "id": "2876eedd",
   "metadata": {},
   "source": [
    "## Working with the Database\n",
    "\n",
    "Most database operations use **SQLAlchemy ORM 2.0 style** with a sessionmaker and context manager. This makes transactions safe and easy.\n",
    "\n",
    "### Step 1: Setup\n",
    "Create an engine and sessionmaker:"
   ]
  },
  {
   "cell_type": "code",
   "execution_count": null,
   "id": "9af60901",
   "metadata": {},
   "outputs": [],
   "source": [
    "from nictbw.db.engine import make_engine\n",
    "from sqlalchemy.orm import sessionmaker\n",
    "\n",
    "engine = make_engine()  # This uses the `DB_URL` env variable\n",
    "Session = sessionmaker(engine)"
   ]
  },
  {
   "cell_type": "markdown",
   "id": "c5b0aa34",
   "metadata": {},
   "source": [
    "### Step 2: Use the Session\n",
    "\n",
    "Put your database code inside a `with` block:"
   ]
  },
  {
   "cell_type": "code",
   "execution_count": null,
   "id": "62d2ba01",
   "metadata": {},
   "outputs": [],
   "source": [
    "with Session.begin() as session:\n",
    "    # Your DB code goes here\n",
    "    # ...\n",
    "\n",
    "    pass  # Adding this just to avoid syntax error. Remove in actual code."
   ]
  },
  {
   "cell_type": "markdown",
   "id": "98479ca5",
   "metadata": {},
   "source": [
    "That's it! The session will **automatically commit** if no errors occur, or **roll back** if there is an exception.\n",
    "\n",
    "- You do NOT need to call `session.commit()` or `session.rollback()` manually.\n",
    "- Call `session.flush()` inside the block if you want to send changes to the database before the block ends.\n",
    "\n",
    "---"
   ]
  },
  {
   "cell_type": "markdown",
   "id": "5dfa557a",
   "metadata": {},
   "source": [
    "## Examples\n",
    "\n",
    "### Example 1: Create and Query a User\n",
    "\n",
    "Let's create a new user and see how to query them from the database."
   ]
  },
  {
   "cell_type": "code",
   "execution_count": null,
   "id": "855bc042",
   "metadata": {},
   "outputs": [],
   "source": [
    "from nictbw.models import User\n",
    "\n",
    "with Session.begin() as session:\n",
    "    # Create a new User\n",
    "    user = User(\n",
    "        in_app_id=\"example_user_01\",\n",
    "        paymail=\"01@example.com\",\n",
    "        nickname=\"Bob\",\n",
    "        on_chain_id=\"test1\"\n",
    "    )\n",
    "\n",
    "    # Add the user to the DB\n",
    "    session.add(user)\n",
    "\n",
    "    # As the session ends, the new user is committed to the DB"
   ]
  },
  {
   "cell_type": "markdown",
   "id": "6fc2e1ab",
   "metadata": {},
   "source": [
    "**Note:**\n",
    "- If you run the cell above multiple times, you may get a `UNIQUE constraint failed` error. This means the `in_app_id` and `wallet` fields must be unique for each user.\n",
    "- To avoid this, change the values of `in_app_id` and `wallet` each time you run the cell.\n",
    "- The same rule applies to other models with unique fields."
   ]
  },
  {
   "cell_type": "markdown",
   "id": "4a8d516b",
   "metadata": {},
   "source": [
    "Now, let's check if the user was saved in the database by querying for them:"
   ]
  },
  {
   "cell_type": "code",
   "execution_count": null,
   "id": "671fa23f",
   "metadata": {},
   "outputs": [],
   "source": [
    "with Session.begin() as session:\n",
    "    # Query the user by in_app_id.\n",
    "    user = User.get_by_in_app_id(session, \"example_user_01\")\n",
    "\n",
    "    if user:\n",
    "        print(\"It works!\")\n",
    "        print(user)\n",
    "        print(f\"This user is created at {user.created_at}.\")\n",
    "    else:\n",
    "        print(\"User not found :(\")"
   ]
  },
  {
   "cell_type": "markdown",
   "id": "4e47e9cf",
   "metadata": {},
   "source": [
    "Here we use the `get_by_in_app_id` class method from the `User` model. There are other useful methods like `get_by_wallet`, `get_by_on_chain_id`, etc. Check the model definitions for more!"
   ]
  },
  {
   "cell_type": "markdown",
   "id": "ae414774",
   "metadata": {},
   "source": [
    "### Example 2: Create an NFT, Mint it On-Chain, and Assign to a User\n",
    "\n",
    "This example shows how to:\n",
    "1. Create an NFT in the database\n",
    "2. Mint it on the blockchain\n",
    "3. Assign it to a user"
   ]
  },
  {
   "cell_type": "code",
   "execution_count": null,
   "id": "143263cf",
   "metadata": {},
   "outputs": [],
   "source": [
    "from nictbw.models import NFT, Admin, User\n",
    "from nictbw.blockchain.api import ChainClient\n",
    "\n",
    "with Session.begin() as session:\n",
    "    # Step 1: Get the admin and user from the database\n",
    "    admin = Admin.get_by_paymail(session, \"admin@example.com\")\n",
    "    if not admin:\n",
    "        raise ValueError(\"Admin with paymail 'admin@example.com' not found\")\n",
    "\n",
    "    user = User.get_by_in_app_id(session, \"example_user_01\")\n",
    "    if not user:\n",
    "        raise ValueError(\"User with in_app_id 'example_user_01' not found\")\n",
    "\n",
    "    # Step 2: Create the NFT in the database\n",
    "    nft = NFT(\n",
    "        prefix=\"CoolPrefix\",\n",
    "        shared_key=\"some_shared_key_123\",\n",
    "        name=\"Sample Badge\",\n",
    "        nft_type=\"badge\",\n",
    "        created_by_admin_id=admin.id,  # Admin's id is supplied here\n",
    "        description=\"Sample badge NFT\",\n",
    "    )\n",
    "\n",
    "    session.add(nft)\n",
    "    session.flush()  # Flush the session (i.e. write to the DB) to ensure the NFT gets its `id` (primary key).\n",
    "    print(f\"NFT created with id: {nft.id}\")\n",
    "\n",
    "    # Step 3: Mint the NFT on-chain\n",
    "    chain_client = ChainClient()\n",
    "    response = nft.mint_on_chain(\n",
    "        session,\n",
    "        chain_client,\n",
    "        app=\"Sample App\",\n",
    "        # recipient_paymail=user.paymail  # Uncomment if the user has a real paymail\n",
    "    )\n",
    "    print(f\"NFT minted on-chain. Transaction ID: {response['transaction_id']}\")\n",
    "    print(f\"NFT on-chain information: {response['nft_information']}\")\n",
    "\n",
    "    # Step 4: Assign the NFT to the user in the database\n",
    "    user.issue_nft_dbwise(session, nft)"
   ]
  },
  {
   "cell_type": "markdown",
   "id": "f66bf68d",
   "metadata": {},
   "source": [
    "To verify the NFT was created and assigned, query the database:\n",
    "\n",
    "You can fetch a user's NFT ownerships directly using relationships in the `User` model:"
   ]
  },
  {
   "cell_type": "code",
   "execution_count": null,
   "id": "6c69648a",
   "metadata": {},
   "outputs": [],
   "source": [
    "with Session.begin() as session:\n",
    "    # Fetch the user from the database\n",
    "    user = User.get_by_in_app_id(session, \"example_user_01\")\n",
    "    if not user:\n",
    "        raise ValueError(\"User with in_app_id 'example_user_01' not found\")\n",
    "\n",
    "    # Print all NFT ownership records for this user\n",
    "    print(user.ownerships)  # List of ownership objects\n",
    "    # Print all NFTs assigned to this user\n",
    "    print(user.nfts)  # List of NFT objects"
   ]
  },
  {
   "cell_type": "markdown",
   "id": "474782de",
   "metadata": {},
   "source": [
    "---\n",
    "\n",
    "### Example 3: Get User and NFT Info from the Blockchain\n",
    "\n",
    "Use the blockchain client to fetch user and NFT information directly from the chain."
   ]
  },
  {
   "cell_type": "code",
   "execution_count": null,
   "id": "59f9295f",
   "metadata": {},
   "outputs": [],
   "source": [
    "from nictbw.blockchain.api import ChainClient\n",
    "\n",
    "# Create a blockchain client using environment variables\n",
    "# By default, this logs in as the admin user (if `.env` vars are set)\n",
    "chain_client = ChainClient()\n",
    "chain_client.info"
   ]
  },
  {
   "cell_type": "code",
   "execution_count": null,
   "id": "86073bbb",
   "metadata": {},
   "outputs": [],
   "source": [
    "# Get all NFTs for a user from the blockchain using their on-chain ID\n",
    "# This uses admin credentials to access blockchain data\n",
    "chain_client.get_user_nfts(\"test1\")\n",
    "\n",
    "# Alternatively, get sorted NFTs\n",
    "# chain_client.get_sorted_user_nfts(\"test1\")"
   ]
  },
  {
   "cell_type": "code",
   "execution_count": null,
   "id": "c4d0139f",
   "metadata": {},
   "outputs": [],
   "source": [
    "# Fetch detailed info for a specific NFT from the blockchain using its origin value\n",
    "# Note: As of blockchain API v1, this only returns the uploaded image data for the NFT.\n",
    "# For full metadata support, future API updates may be required.\n",
    "chain_client.get_nft_info(\"some_origin_value\")  # Replace with the actual origin value"
   ]
  },
  {
   "cell_type": "markdown",
   "id": "2ebff282",
   "metadata": {},
   "source": [
    "---\n",
    "\n",
    "*Work in Progress*: More examples and advanced usage will be added soon."
   ]
  },
  {
   "cell_type": "code",
   "execution_count": null,
   "id": "5a0a32d8",
   "metadata": {},
   "outputs": [],
   "source": [
    "# WIP: Sync NFTs from blockchain to DB for a user\n",
    "# Need to handle the case where on-chain NFTs are not in the DB yet\n",
    "\n",
    "# For a user with `on_chain_id` \"test1\", update the DB with their NFTs from the blockchain:\n",
    "\n",
    "# with Session.begin() as session:\n",
    "#     user = User.get_by_on_chain_id(session, \"test1\")\n",
    "#     if not user:\n",
    "#         raise ValueError(\"User with on_chain_id 'test1' not found\")\n",
    "#     # Sync NFTs from blockchain to DB\n",
    "#     user.sync_nfts_from_chain(session, chain_client)\n",
    "#     print(user.nfts)  # Print updated NFT list"
   ]
  }
 ],
 "metadata": {
  "kernelspec": {
   "display_name": "nict",
   "language": "python",
   "name": "python3"
  },
  "language_info": {
   "codemirror_mode": {
    "name": "ipython",
    "version": 3
   },
   "file_extension": ".py",
   "mimetype": "text/x-python",
   "name": "python",
   "nbconvert_exporter": "python",
   "pygments_lexer": "ipython3",
   "version": "3.13.5"
  }
 },
 "nbformat": 4,
 "nbformat_minor": 5
}
