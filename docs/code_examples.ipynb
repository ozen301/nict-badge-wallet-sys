{
 "cells": [
  {
   "cell_type": "markdown",
   "id": "b28a2225",
   "metadata": {},
   "source": [
    "# NICT Badge & Wallet System — Code Examples\n",
    "\n",
    "\n",
    "This notebook provides practical examples that reflect the workflows described in [`docs/workflows.md`](./workflows.md), including:\n",
    "- User Registration\n",
    "- Admin Registration\n",
    "- User Information Update\n",
    "- NFT Template Creation\n",
    "- NFT Creation and Issuance to a User\n",
    "- NFT Synchronization from the Blockchain\n",
    "- User Bingo Card Info Update\n",
    "- Bingo Card Information Request\n",
    "- Prize Draw Type Setup\n",
    "- Prize Draw Winning Number Submission\n",
    "- Prize Draw Evaluation\n",
    "- Workflow: Prize Draw Ranking\n",
    "\n",
    "Before you start, make sure to set up your Python environment and initialize the database as described in the [Quick Start](../README.md#quick-start) section of README.\n"
   ]
  },
  {
   "cell_type": "markdown",
   "id": "1bc8d1da",
   "metadata": {},
   "source": [
    "---\n",
    "## Working with the Database\n",
    "\n",
    "Most database operations use **SQLAlchemy ORM 2.0 style** sessions created via a `sessionmaker`. The pattern keeps transactions tidy and consistent.\n"
   ]
  },
  {
   "cell_type": "markdown",
   "id": "23173ef5",
   "metadata": {},
   "source": [
    "### Step 1: Setup\n",
    "\n",
    "Create an engine and sessionmaker:\n"
   ]
  },
  {
   "cell_type": "code",
   "execution_count": null,
   "id": "e08680d1",
   "metadata": {},
   "outputs": [],
   "source": [
    "from nictbw.db.engine import make_engine\n",
    "from sqlalchemy.orm import sessionmaker\n",
    "\n",
    "engine = make_engine()  # This uses the DB_URL environment variable\n",
    "Session = sessionmaker(engine)"
   ]
  },
  {
   "cell_type": "markdown",
   "id": "ba061f05",
   "metadata": {},
   "source": [
    "### Step 2: Use the Session\n",
    "\n",
    "Wrap your code inside a `with` block:\n"
   ]
  },
  {
   "cell_type": "code",
   "execution_count": null,
   "id": "c44720be",
   "metadata": {},
   "outputs": [],
   "source": [
    "with Session.begin() as session:\n",
    "    # Your DB code goes here\n",
    "    # ...\n",
    "    pass  # Replace with real work in your application."
   ]
  },
  {
   "cell_type": "markdown",
   "id": "c8cedf2b",
   "metadata": {},
   "source": [
    "This pattern **automatically commits** if everything succeeds or **rolls back** if an exception is raised. \n",
    "\n",
    "You can also call `session.flush()` inside the block to write changes to the database before the block closes. This is useful when you need to access auto-generated fields (like primary keys) immediately after an insert.\n"
   ]
  },
  {
   "cell_type": "markdown",
   "id": "e77dc78c",
   "metadata": {},
   "source": [
    "---\n",
    "## Notebook Helpers\n",
    "\n",
    "The examples below generate unique identifiers so you can re-run cells without conflicting with previously inserted rows. Run the helper cell once before exploring the workflows.\n"
   ]
  },
  {
   "cell_type": "code",
   "execution_count": null,
   "id": "70acded2",
   "metadata": {},
   "outputs": [],
   "source": [
    "import uuid\n",
    "\n",
    "EXAMPLE_SUFFIX = uuid.uuid4().hex[:8]\n",
    "WORKFLOW_USER_IN_APP_ID = f\"workflow_user_{EXAMPLE_SUFFIX}\"\n",
    "WORKFLOW_USER_SIGNUP_USERNAME = WORKFLOW_USER_IN_APP_ID\n",
    "WORKFLOW_USER_SIGNUP_EMAIL = f\"{WORKFLOW_USER_SIGNUP_USERNAME}@example.com\"\n",
    "WORKFLOW_USER_SIGNUP_PASSWORD = \"ChangeMe123!\"\n",
    "WORKFLOW_USER_PAYMAIL = None\n",
    "WORKFLOW_ADMIN_IN_APP_ID = f\"workflow_admin_user_{EXAMPLE_SUFFIX}\"\n",
    "WORKFLOW_ADMIN_PAYMAIL = f\"admin+{EXAMPLE_SUFFIX}@example.com\"\n",
    "WORKFLOW_TEMPLATE_PREFIX = f\"WF-{EXAMPLE_SUFFIX}\"\n",
    "WORKFLOW_TEMPLATE_NAME = f\"{EXAMPLE_SUFFIX}-Template\"\n",
    "WORKFLOW_TEMPLATE_SUBCATOGERY = f\"{EXAMPLE_SUFFIX}-shop\"\n",
    "WORKFLOW_SHARED_KEY = f\"shared-{EXAMPLE_SUFFIX}\"\n",
    "WORKFLOW_PRIZE_DRAW_INTERNAL_NAME = f\"workflow_draw_{EXAMPLE_SUFFIX}\"\n",
    "WORKFLOW_PRIZE_DRAW_DISPLAY_NAME = f\"Workflow Draw {EXAMPLE_SUFFIX}\"\n",
    "WORKFLOW_PRIZE_DRAW_WINNING_NUMBER = f\"WIN-{EXAMPLE_SUFFIX}\"\n",
    "\n",
    "\n",
    "print(\"Using example suffix:\", EXAMPLE_SUFFIX)\n",
    "print(\"User in_app_id:\", WORKFLOW_USER_IN_APP_ID)\n",
    "print(\"Blockchain username:\", WORKFLOW_USER_SIGNUP_USERNAME)\n",
    "print(\"Blockchain email:\", WORKFLOW_USER_SIGNUP_EMAIL)\n",
    "print(\"User paymail (populated after registration):\", WORKFLOW_USER_PAYMAIL)\n",
    "print(\"Admin in_app_id:\", WORKFLOW_ADMIN_IN_APP_ID)\n",
    "print(\"Admin paymail:\", WORKFLOW_ADMIN_PAYMAIL)\n",
    "print(\"Template prefix:\", WORKFLOW_TEMPLATE_PREFIX)\n",
    "print(\"Shared key:\", WORKFLOW_SHARED_KEY)\n",
    "print(\"Prize draw internal name:\", WORKFLOW_PRIZE_DRAW_INTERNAL_NAME)\n",
    "print(\"Prize draw display name:\", WORKFLOW_PRIZE_DRAW_DISPLAY_NAME)\n",
    "print(\"Winning number value:\", WORKFLOW_PRIZE_DRAW_WINNING_NUMBER)"
   ]
  },
  {
   "cell_type": "markdown",
   "id": "cc358e54",
   "metadata": {},
   "source": [
    "### Shared Imports\n",
    "\n",
    "Load the models and workflows used throughout the notebook:\n"
   ]
  },
  {
   "cell_type": "code",
   "execution_count": null,
   "id": "bc4e94e0",
   "metadata": {},
   "outputs": [],
   "source": [
    "from nictbw.models import (\n",
    "    Admin,\n",
    "    NFT,\n",
    "    NFTTemplate,\n",
    "    PrizeDrawResult,\n",
    "    PrizeDrawType,\n",
    "    PrizeDrawWinningNumber,\n",
    "    User,\n",
    ")\n",
    "from nictbw import workflows"
   ]
  },
  {
   "cell_type": "markdown",
   "id": "2db1102c",
   "metadata": {},
   "source": [
    "---\n",
    "## Workflow Examples\n",
    "\n",
    "Each example below refers to a workflow described in [`docs/workflows.md`](./workflows.md).\n",
    "\n",
    "Note that if you re-run cells, you might run into unique constraint violations (e.g., duplicate paymails). To solve this, simply re-run the helper cell above to generate a new unique suffix.\n"
   ]
  },
  {
   "cell_type": "markdown",
   "id": "e5ddf075",
   "metadata": {},
   "source": [
    "### Workflow: User Registration\n"
   ]
  },
  {
   "cell_type": "code",
   "execution_count": null,
   "id": "9beb2e5e",
   "metadata": {},
   "outputs": [],
   "source": [
    "with Session.begin() as session:\n",
    "    workflow_user = User(\n",
    "        in_app_id=WORKFLOW_USER_IN_APP_ID,\n",
    "        nickname=\"Workflow Explorer\",\n",
    "    )\n",
    "    workflows.register_user(\n",
    "        session,\n",
    "        workflow_user,\n",
    "        password=WORKFLOW_USER_SIGNUP_PASSWORD,\n",
    "        email=WORKFLOW_USER_SIGNUP_EMAIL,\n",
    "    )\n",
    "\n",
    "    print(\n",
    "        f\"Registered user id={workflow_user.id} (paymail={workflow_user.paymail}, \"\n",
    "        f\"on_chain_id={workflow_user.on_chain_id})\"\n",
    "    )"
   ]
  },
  {
   "cell_type": "markdown",
   "id": "1b4977f4",
   "metadata": {},
   "source": [
    "### Workflow: Admin Registration"
   ]
  },
  {
   "cell_type": "code",
   "execution_count": null,
   "id": "247b0764",
   "metadata": {},
   "outputs": [],
   "source": [
    "with Session.begin() as session:\n",
    "    admin = Admin(\n",
    "        paymail=WORKFLOW_ADMIN_PAYMAIL,\n",
    "        password_hash=\"hashed-password-placeholder\",\n",
    "        name=\"Workflow Admin\",\n",
    "        role=\"event_manager\",\n",
    "    )\n",
    "    session.add(admin)\n",
    "    session.flush()  # Ensure admin.id is populated since we need it in the print statement\n",
    "    print(f\"Created admin id={admin.id}\")"
   ]
  },
  {
   "cell_type": "markdown",
   "id": "86378d44",
   "metadata": {},
   "source": [
    "### Workflow: User Information Update\n",
    "\n",
    "Load the user and adjust the attributes you need."
   ]
  },
  {
   "cell_type": "code",
   "execution_count": null,
   "id": "db751086",
   "metadata": {},
   "outputs": [],
   "source": [
    "with Session.begin() as session:\n",
    "    user = User.get_by_in_app_id(session, WORKFLOW_USER_IN_APP_ID)\n",
    "    if user is None:\n",
    "        raise RuntimeError(\"Run the user registration example first.\")\n",
    "\n",
    "    user.nickname = \"Workflow Explorer v2\"\n",
    "    user.set_password_hash(\"new-password-hash\")\n",
    "    session.flush()\n",
    "\n",
    "    print(\n",
    "        f\"Updated user nickname to {user.nickname} (password hash set? {user.password_hash is not None})\"\n",
    "    )"
   ]
  },
  {
   "cell_type": "markdown",
   "id": "be1bf790",
   "metadata": {},
   "source": [
    "### Workflow: NFT Template Creation\n"
   ]
  },
  {
   "cell_type": "code",
   "execution_count": null,
   "id": "779d2b33",
   "metadata": {},
   "outputs": [],
   "source": [
    "with Session.begin() as session:\n",
    "    admin = Admin.get_by_paymail(session, WORKFLOW_ADMIN_PAYMAIL)\n",
    "    if admin is None:\n",
    "        raise RuntimeError(\"Run the admin registration example first.\")\n",
    "\n",
    "    template = NFTTemplate(\n",
    "        prefix=WORKFLOW_TEMPLATE_PREFIX,\n",
    "        name=WORKFLOW_TEMPLATE_NAME,\n",
    "        category=\"event\",\n",
    "        subcategory=WORKFLOW_TEMPLATE_SUBCATOGERY,\n",
    "        created_by_admin_id=admin.id,\n",
    "        description=\"Issued during the workflow walkthrough example.\",\n",
    "        triggers_bingo_card=True,\n",
    "    )\n",
    "    session.add(template)\n",
    "    session.flush()\n",
    "    print(\n",
    "        f\"Created template id={template.id} (triggers_bingo_card={template.triggers_bingo_card})\"\n",
    "    )"
   ]
  },
  {
   "cell_type": "markdown",
   "id": "a1023b4a",
   "metadata": {},
   "source": [
    "### Workflow: NFT Creation and Issuance to a User"
   ]
  },
  {
   "cell_type": "markdown",
   "id": "0c6605ef",
   "metadata": {},
   "source": [
    "**Note:** The following example involves **real** blockchain interaction. Therefore it requires:\n",
    "- The `.env` file to be set up properly.\n",
    "- The user to have a **valid paymail**, which is stored in `User.paymail` field.\n",
    "\n",
    "If the paymail is not valid, the minting process will fail with an HTTP 400 Bad Request error.\n"
   ]
  },
  {
   "cell_type": "code",
   "execution_count": null,
   "id": "fbe9dd13",
   "metadata": {},
   "outputs": [],
   "source": [
    "with Session.begin() as session:\n",
    "    user = User.get_by_in_app_id(session, WORKFLOW_USER_IN_APP_ID)\n",
    "    template = NFTTemplate.get_by_prefix(session, WORKFLOW_TEMPLATE_PREFIX)\n",
    "    if user is None or template is None:\n",
    "        raise RuntimeError(\"Ensure the user and template exist before minting.\")\n",
    "\n",
    "    nft = workflows.create_and_issue_nft(\n",
    "        session=session,\n",
    "        user=user,\n",
    "        shared_key=WORKFLOW_SHARED_KEY,\n",
    "        nft_template=template,\n",
    "    )\n",
    "\n",
    "    print(f\"Minted NFT id={nft.id} with origin={nft.origin}\")\n",
    "    print(f\"User now owns {len(user.nfts)} NFT(s).\")"
   ]
  },
  {
   "cell_type": "markdown",
   "id": "e7ef2609",
   "metadata": {},
   "source": [
    "### Workflow: NFT Synchronization from the Blockchain\n",
    "\n",
    "Call `User.sync_nfts_from_chain` to reconcile the local database with the blockchain.\n",
    "Use this workflow only when NFTs may have been minted or transferred on-chain without corresponding local records.\n",
    "\n",
    "**Requirements:**\n",
    "- The user must have an `on_chain_id` produced during blockchain registration.\n",
    "- Valid blockchain API credentials must be available via environment variables.\n",
    "\n",
    "The helper also updates `NFTTemplate.minted_count`, stores the raw metadata in `UserNFTOwnership.other_meta`, and ensures `unique_nft_id` is consistent with the\n",
    "`f\"{prefix}_{shared_key}\"` format.\n"
   ]
  },
  {
   "cell_type": "code",
   "execution_count": null,
   "id": "99dc20c0",
   "metadata": {},
   "outputs": [],
   "source": [
    "with Session.begin() as session:\n",
    "    user = User.get_by_in_app_id(session, WORKFLOW_USER_IN_APP_ID)\n",
    "    if user is None:\n",
    "        raise RuntimeError(\"Run the user registration example first.\")\n",
    "\n",
    "    if user.on_chain_id is None:\n",
    "        raise RuntimeError(\"The user must have an on-chain identifier before syncing.\")\n",
    "\n",
    "    before_ownerships = len(user.ownerships)\n",
    "\n",
    "    user.sync_nfts_from_chain(session)\n",
    "\n",
    "    session.flush()\n",
    "    session.expire(user, [\"ownerships\"])\n",
    "\n",
    "    refreshed_ownerships = list(user.ownerships)\n",
    "    after_ownerships = len(refreshed_ownerships)\n",
    "\n",
    "    print(f\"Ownership records before sync: {before_ownerships}\")\n",
    "    print(f\"Ownership records after sync: {after_ownerships}\")"
   ]
  },
  {
   "cell_type": "markdown",
   "id": "3d0d754a",
   "metadata": {},
   "source": [
    "### Workflow: User Bingo Card Info Update\n",
    "\n",
    "**Note:** Normally it is not necessary to call these methods directly, as the bingo card and cell info is automatically updated when the user gets a new NFT issued via the `create_and_issue_nft` workflow. This workflow is only needed when the bingo card or cell info gets out of sync for some reason."
   ]
  },
  {
   "cell_type": "code",
   "execution_count": null,
   "id": "bd5265c9",
   "metadata": {},
   "outputs": [],
   "source": [
    "with Session.begin() as session:\n",
    "    user = User.get_by_in_app_id(session, WORKFLOW_USER_IN_APP_ID)\n",
    "    if user is None:\n",
    "        raise RuntimeError(\"Run the user registration example first.\")\n",
    "\n",
    "    before_cards = len(user.bingo_cards)\n",
    "    workflows.update_user_bingo_info(session, user)\n",
    "    session.expire(user, [\"bingo_cards\"])\n",
    "    after_cards = len(user.bingo_cards)\n",
    "\n",
    "    print(f\"Bingo cards before update: {before_cards}\")\n",
    "    print(f\"Bingo cards after update: {after_cards}\")"
   ]
  },
  {
   "cell_type": "markdown",
   "id": "d56f7828",
   "metadata": {},
   "source": [
    "### Workflow: Bingo Card Information Request\n"
   ]
  },
  {
   "cell_type": "markdown",
   "id": "c38aa7c9",
   "metadata": {},
   "source": [
    "You can get the user's bingo card information as a dictionary (JSON) or a JSON string, either in full or in a compact form."
   ]
  },
  {
   "cell_type": "code",
   "execution_count": null,
   "id": "65fb0f91",
   "metadata": {},
   "outputs": [],
   "source": [
    "with Session.begin() as session:\n",
    "    user = User.get_by_in_app_id(session, WORKFLOW_USER_IN_APP_ID)\n",
    "    if user is None:\n",
    "        raise RuntimeError(\"Run the user registration example first.\")\n",
    "\n",
    "    # full_payload = user.bingo_cards_json()\n",
    "    # full_payload_str = json.dumps(full_payload, indent=2, ensure_ascii=False)\n",
    "    compact_payload = user.bingo_cards_json(compact=True)\n",
    "    compact_payload_str = user.bingo_cards_json_str(compact=True)\n",
    "    print(\"Compact JSON string:\")\n",
    "    print(compact_payload_str)"
   ]
  },
  {
   "cell_type": "code",
   "execution_count": null,
   "id": "469249bc",
   "metadata": {},
   "outputs": [],
   "source": [
    "# For better readability in Jupyter notebooks\n",
    "compact_payload"
   ]
  },
  {
   "cell_type": "markdown",
   "metadata": {},
   "source": [
    "### Workflow: Prize Draw Type Setup\n",
    "\n",
    "Create or reuse a draw type configuration `PrizeDrawType` before storing winning numbers or evaluating NFTs.\n",
    "\n",
    "> **Note:**\n",
    "> A `PrizeDrawType` is essentially a configuration that defines how to evaluate NFTs for winning. For example, you might have at least two types of prize draws:\n",
    "> 1. The prize draw that is performed whenever a user gets a new NFT. This type typically uses the `\"hamming\"` algorithm with a low similarity threshold (close to 0.0) to reward users for collecting NFTs.\n",
    "> 2. The prize draw that chooses the user with the closest matching NFT as the winner, no matter how similar it is. This is typically performed when a special event occurs and the organizer wants to pick a winner from all NFT holders.\n",
    "\n",
    "The scoring algorithm is specified by the `PrizeDrawType.algorithm_key` field. The currently supported algorithms (defined in `nictbw.prize_draw.scoring.DEFAULT_SCORING_REGISTRY`) are:\n",
    "- `\"hamming\"`: Calculates the Hamming distance between the prize draw number and the winning number. Returns a normalized similarity score between 0.0 and 1.0 (inclusive), where 1.0 means identical and 0.0 means completely different.\n",
    "\n",
    "If necessary, you can also implement and register your own scoring algorithms. See the docstring of `nictbw.prize_draw.scoring.AlgorithmRegistry.register` for details."
   ]
  },
  {
   "cell_type": "code",
   "execution_count": null,
   "metadata": {},
   "outputs": [],
   "source": [
    "with Session.begin() as session:\n",
    "    # Retrieve\n",
    "    draw_type = PrizeDrawType.get_by_internal_name(\n",
    "        session, WORKFLOW_PRIZE_DRAW_INTERNAL_NAME\n",
    "    )\n",
    "\n",
    "    if draw_type is None:\n",
    "        # Create\n",
    "        draw_type = PrizeDrawType(\n",
    "            internal_name=WORKFLOW_PRIZE_DRAW_INTERNAL_NAME,\n",
    "            display_name=WORKFLOW_PRIZE_DRAW_DISPLAY_NAME,\n",
    "            description=\"Demo draw type created from the workflow examples.\",\n",
    "            algorithm_key=\"hamming\",  # specify the score calculating algorithm to use\n",
    "            default_threshold=0.0,\n",
    "        )\n",
    "\n",
    "        session.add(draw_type)\n",
    "        session.flush()\n",
    "        print(f\"Created draw type id={draw_type.id}\")\n",
    "\n",
    "    else:\n",
    "        print(f\"Reusing existing draw type id={draw_type.id}\")\n",
    "\n",
    "    WORKFLOW_PRIZE_DRAW_TYPE_ID = draw_type.id"
   ]
  },
  {
   "cell_type": "markdown",
   "metadata": {},
   "source": [
    "### Workflow: Adding Prize Draw Winning Number\n",
    "\n",
    "Submit a winning number for the draw type created above. The helper `nictbw.workflows.submit_winning_number` persists the value and returns the ORM entity."
   ]
  },
  {
   "cell_type": "code",
   "execution_count": null,
   "metadata": {},
   "outputs": [],
   "source": [
    "with Session.begin() as session:\n",
    "    # Prepare the draw type\n",
    "    draw_type = PrizeDrawType.get_by_internal_name(\n",
    "        session, WORKFLOW_PRIZE_DRAW_INTERNAL_NAME\n",
    "    )\n",
    "    if draw_type is None:\n",
    "        raise RuntimeError(\"Run the prize draw type setup example first.\")\n",
    "\n",
    "    # Submit a winning number\n",
    "    winning_number = workflows.submit_winning_number(\n",
    "        session,\n",
    "        draw_type,\n",
    "        value=WORKFLOW_PRIZE_DRAW_WINNING_NUMBER,\n",
    "    )\n",
    "\n",
    "    # And it's done\n",
    "    # The below is only for later reference in the notebook\n",
    "    WORKFLOW_PRIZE_DRAW_WINNING_NUMBER_ID = winning_number.id\n",
    "\n",
    "    print(\n",
    "        \"Stored winning number id={id} for draw type '{name}' with value='{value}'\".format(\n",
    "            id=winning_number.id,\n",
    "            name=draw_type.internal_name,\n",
    "            value=winning_number.value,\n",
    "        )\n",
    "    )"
   ]
  },
  {
   "cell_type": "markdown",
   "metadata": {},
   "source": [
    "### Workflow: Prize Draw Evaluation\n",
    "\n",
    "Evaluate an NFT against the configured draw type and winning number, saving the result as a `PrizeDrawResult` entity into the database. Re-running the helper will overwrite the prior result for the same combination."
   ]
  },
  {
   "cell_type": "code",
   "execution_count": null,
   "metadata": {},
   "outputs": [],
   "source": [
    "with Session.begin() as session:\n",
    "    # Prepare the draw type, winning number, and user.\n",
    "    # (This is only an example,\n",
    "    # you might retrieve these using different methods in your application.)\n",
    "    draw_type = session.get(PrizeDrawType, WORKFLOW_PRIZE_DRAW_TYPE_ID)\n",
    "    winning_number = session.get(\n",
    "        PrizeDrawWinningNumber, WORKFLOW_PRIZE_DRAW_WINNING_NUMBER_ID\n",
    "    )\n",
    "    user = User.get_by_in_app_id(session, WORKFLOW_USER_IN_APP_ID)\n",
    "    if draw_type is None or winning_number is None or user is None:\n",
    "        raise RuntimeError(\n",
    "            \"Ensure the draw type, winning number, and user exist before evaluating.\"\n",
    "        )\n",
    "    nft = next((n for n in user.nfts if n.shared_key == WORKFLOW_SHARED_KEY), None)\n",
    "    if nft is None:\n",
    "        raise RuntimeError(\n",
    "            \"Run the NFT creation and issuance example before evaluating the draw.\"\n",
    "        )\n",
    "\n",
    "    # Evaluate the draw\n",
    "    result = workflows.run_prize_draw(\n",
    "        session,\n",
    "        nft,\n",
    "        draw_type,\n",
    "        winning_number=winning_number,\n",
    "        threshold=draw_type.default_threshold,\n",
    "    )\n",
    "\n",
    "    # The below is only for later reference in the notebook\n",
    "    WORKFLOW_PRIZE_DRAW_RESULT_ID = result.id\n",
    "    print(\n",
    "        \"Result id={id} outcome={outcome} score={score} threshold={threshold}\".format(\n",
    "            id=result.id,\n",
    "            outcome=result.outcome,\n",
    "            score=result.similarity_score,\n",
    "            threshold=result.threshold_used,\n",
    "        )\n",
    "    )\n",
    "    print(f\"Draw number: {result.draw_number}\")"
   ]
  },
  {
   "cell_type": "markdown",
   "id": "ee2750e5",
   "metadata": {},
   "source": [
    "To evaluate multiple NFTs in one call, you can use `workflows.run_prize_draw_batch` instead.\n",
    "\n",
    "To do that, simply replace the `run_prize_draw` above with `run_prize_draw_batch`, passing a list of NFTs instead of a single NFT. If the `nfts` argument is omitted, it by default evaluates all NFTs available in the database."
   ]
  },
  {
   "cell_type": "markdown",
   "id": "7ef966cc",
   "metadata": {},
   "source": [
    "### Workflow: Prize Draw Ranking\n",
    "\n",
    "When a draw type does not rely on thresholds (for example, when finding a \"closest-number win\" ), you can rank the evaluated results and pick the top records."
   ]
  },
  {
   "cell_type": "code",
   "execution_count": null,
   "id": "f01b350d",
   "metadata": {},
   "outputs": [],
   "source": [
    "with Session.begin() as session:\n",
    "    # Prepare the draw type\n",
    "    draw_type = session.get(PrizeDrawType, WORKFLOW_PRIZE_DRAW_TYPE_ID)\n",
    "    if draw_type is None:\n",
    "        raise RuntimeError(\"Run the prize draw type setup example first.\")\n",
    "\n",
    "    # Retrieve top results\n",
    "    res = workflows.select_top_prize_draw_results(\n",
    "        session=session, draw_type=draw_type, limit=10\n",
    "    )\n",
    "\n",
    "    for r in res:\n",
    "        print(r)"
   ]
  },
  {
   "cell_type": "code",
   "execution_count": null,
   "id": "2a37c6d3",
   "metadata": {},
   "outputs": [],
   "source": []
  }
 ],
 "metadata": {
  "kernelspec": {
   "display_name": "nict",
   "language": "python",
   "name": "python3"
  },
  "language_info": {
   "codemirror_mode": {
    "name": "ipython",
    "version": 3
   },
   "file_extension": ".py",
   "mimetype": "text/x-python",
   "name": "python",
   "nbconvert_exporter": "python",
   "pygments_lexer": "ipython3",
   "version": "3.13.5"
  }
 },
 "nbformat": 4,
 "nbformat_minor": 5
}
