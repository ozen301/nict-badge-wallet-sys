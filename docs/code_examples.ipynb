{
 "cells": [
  {
   "cell_type": "markdown",
   "id": "b28a2225",
   "metadata": {},
   "source": [
    "# NICT Badge & Wallet System — Code Examples\n",
    "\n",
    "This notebook provides practical examples that reflect the workflows described in [`docs/workflows.md`](./workflows.md), including:\n",
    "- User Registration\n",
    "- Admin Registration\n",
    "- User Information Update\n",
    "- NFT Template Creation\n",
    "- NFT Creation and Issuance to a User\n",
    "- User Bingo Card Info Update\n",
    "- Bingo Card Information Request\n",
    "\n",
    "Before you start, make sure to set up your Python environment and initialize the database as described in the [Quick Start](../README.md#quick-start) section of README.\n"
   ]
  },
  {
   "cell_type": "markdown",
   "id": "1bc8d1da",
   "metadata": {},
   "source": [
    "---\n",
    "## Working with the Database\n",
    "\n",
    "Most database operations use **SQLAlchemy ORM 2.0 style** sessions created via a `sessionmaker`. The pattern keeps transactions tidy and consistent.\n"
   ]
  },
  {
   "cell_type": "markdown",
   "id": "23173ef5",
   "metadata": {},
   "source": [
    "### Step 1: Setup\n",
    "\n",
    "Create an engine and sessionmaker:\n"
   ]
  },
  {
   "cell_type": "code",
   "execution_count": null,
   "id": "e08680d1",
   "metadata": {},
   "outputs": [],
   "source": [
    "from nictbw.db.engine import make_engine\n",
    "from sqlalchemy.orm import sessionmaker\n",
    "\n",
    "engine = make_engine()  # This uses the DB_URL environment variable\n",
    "Session = sessionmaker(engine)"
   ]
  },
  {
   "cell_type": "markdown",
   "id": "ba061f05",
   "metadata": {},
   "source": [
    "### Step 2: Use the Session\n",
    "\n",
    "Wrap your code inside a `with` block:\n"
   ]
  },
  {
   "cell_type": "code",
   "execution_count": null,
   "id": "c44720be",
   "metadata": {},
   "outputs": [],
   "source": [
    "with Session.begin() as session:\n",
    "    # Your DB code goes here\n",
    "    # ...\n",
    "    pass  # Replace with real work in your application."
   ]
  },
  {
   "cell_type": "markdown",
   "id": "c8cedf2b",
   "metadata": {},
   "source": [
    "This pattern **automatically commits** if everything succeeds or **rolls back** if an exception is raised. \n",
    "\n",
    "You can also call `session.flush()` inside the block to write changes to the database before the block closes. This is useful when you need to access auto-generated fields (like primary keys) immediately after an insert.\n"
   ]
  },
  {
   "cell_type": "markdown",
   "id": "e77dc78c",
   "metadata": {},
   "source": [
    "---\n",
    "## Notebook Helpers\n",
    "\n",
    "The examples below generate unique identifiers so you can re-run cells without conflicting with previously inserted rows. Run the helper cell once before exploring the workflows.\n"
   ]
  },
  {
   "cell_type": "code",
   "execution_count": null,
   "id": "70acded2",
   "metadata": {},
   "outputs": [],
   "source": [
    "import uuid\n",
    "\n",
    "EXAMPLE_SUFFIX = uuid.uuid4().hex[:8]\n",
    "WORKFLOW_USER_IN_APP_ID = f\"workflow_user_{EXAMPLE_SUFFIX}\"\n",
    "WORKFLOW_USER_SIGNUP_USERNAME = WORKFLOW_USER_IN_APP_ID\n",
    "WORKFLOW_USER_SIGNUP_EMAIL = f\"{WORKFLOW_USER_SIGNUP_USERNAME}@example.com\"\n",
    "WORKFLOW_USER_SIGNUP_PASSWORD = \"ChangeMe123!\"\n",
    "WORKFLOW_USER_PAYMAIL = None\n",
    "WORKFLOW_ADMIN_IN_APP_ID = f\"workflow_admin_user_{EXAMPLE_SUFFIX}\"\n",
    "WORKFLOW_ADMIN_PAYMAIL = f\"admin+{EXAMPLE_SUFFIX}@example.com\"\n",
    "WORKFLOW_TEMPLATE_PREFIX = f\"WF-{EXAMPLE_SUFFIX}\"\n",
    "WORKFLOW_TEMPLATE_NAME = f\"{EXAMPLE_SUFFIX}-Template\"\n",
    "WORKFLOW_TEMPLATE_SUBCATOGERY = f\"{EXAMPLE_SUFFIX}-shop\"\n",
    "WORKFLOW_SHARED_KEY = f\"shared-{EXAMPLE_SUFFIX}\"\n",
    "\n",
    "print(\"Using example suffix:\", EXAMPLE_SUFFIX)\n",
    "print(\"User in_app_id:\", WORKFLOW_USER_IN_APP_ID)\n",
    "print(\"Blockchain username:\", WORKFLOW_USER_SIGNUP_USERNAME)\n",
    "print(\"Blockchain email:\", WORKFLOW_USER_SIGNUP_EMAIL)\n",
    "print(\"User paymail (populated after registration):\", WORKFLOW_USER_PAYMAIL)\n",
    "print(\"Admin in_app_id:\", WORKFLOW_ADMIN_IN_APP_ID)\n",
    "print(\"Admin paymail:\", WORKFLOW_ADMIN_PAYMAIL)\n",
    "print(\"Template prefix:\", WORKFLOW_TEMPLATE_PREFIX)\n",
    "print(\"Shared key:\", WORKFLOW_SHARED_KEY)\n"
   ]
  },
  {
   "cell_type": "markdown",
   "id": "cc358e54",
   "metadata": {},
   "source": [
    "### Shared Imports\n",
    "\n",
    "Load the models and workflows used throughout the notebook:\n"
   ]
  },
  {
   "cell_type": "code",
   "execution_count": null,
   "id": "bc4e94e0",
   "metadata": {},
   "outputs": [],
   "source": [
    "from nictbw.models import Admin, NFTTemplate, User\n",
    "from nictbw import workflows"
   ]
  },
  {
   "cell_type": "markdown",
   "id": "2db1102c",
   "metadata": {},
   "source": [
    "---\n",
    "## Workflow Examples\n",
    "\n",
    "Each example below refers to a workflow described in [`docs/workflows.md`](./workflows.md).\n",
    "\n",
    "Note that if you re-run cells, you might run into unique constraint violations (e.g., duplicate paymails). To solve this, simply re-run the helper cell above to generate a new unique suffix.\n"
   ]
  },
  {
   "cell_type": "markdown",
   "id": "e5ddf075",
   "metadata": {},
   "source": [
    "### Workflow: User Registration\n"
   ]
  },
  {
   "cell_type": "code",
   "execution_count": null,
   "id": "9beb2e5e",
   "metadata": {},
   "outputs": [],
   "source": [
    "with Session.begin() as session:\n",
    "    workflow_user = User(\n",
    "        in_app_id=WORKFLOW_USER_IN_APP_ID,\n",
    "        nickname=\"Workflow Explorer\",\n",
    "    )\n",
    "    workflows.register_user(\n",
    "        session,\n",
    "        workflow_user,\n",
    "        password=WORKFLOW_USER_SIGNUP_PASSWORD,\n",
    "        email=WORKFLOW_USER_SIGNUP_EMAIL,\n",
    "    )\n",
    "\n",
    "    print(\n",
    "        f\"Registered user id={workflow_user.id} (paymail={workflow_user.paymail}, \"\n",
    "        f\"on_chain_id={workflow_user.on_chain_id})\"\n",
    "    )"
   ]
  },
  {
   "cell_type": "markdown",
   "id": "1b4977f4",
   "metadata": {},
   "source": [
    "### Workflow: Admin Registration"
   ]
  },
  {
   "cell_type": "code",
   "execution_count": null,
   "id": "247b0764",
   "metadata": {},
   "outputs": [],
   "source": [
    "with Session.begin() as session:\n",
    "    admin = Admin(\n",
    "        paymail=WORKFLOW_ADMIN_PAYMAIL,\n",
    "        password_hash=\"hashed-password-placeholder\",\n",
    "        name=\"Workflow Admin\",\n",
    "        role=\"event_manager\",\n",
    "    )\n",
    "    session.add(admin)\n",
    "    session.flush()  # Ensure admin.id is populated since we need it in the print statement\n",
    "    print(f\"Created admin id={admin.id}\")"
   ]
  },
  {
   "cell_type": "markdown",
   "id": "86378d44",
   "metadata": {},
   "source": [
    "### Workflow: User Information Update\n",
    "\n",
    "Load the user and adjust the attributes you need."
   ]
  },
  {
   "cell_type": "code",
   "execution_count": null,
   "id": "db751086",
   "metadata": {},
   "outputs": [],
   "source": [
    "with Session.begin() as session:\n",
    "    user = User.get_by_in_app_id(session, WORKFLOW_USER_IN_APP_ID)\n",
    "    if user is None:\n",
    "        raise RuntimeError(\"Run the user registration example first.\")\n",
    "\n",
    "    user.nickname = \"Workflow Explorer v2\"\n",
    "    user.set_password_hash(\"new-password-hash\")\n",
    "    session.flush()\n",
    "    \n",
    "    print(\n",
    "        f\"Updated user nickname to {user.nickname} (password hash set? {user.password_hash is not None})\"\n",
    "    )"
   ]
  },
  {
   "cell_type": "markdown",
   "id": "be1bf790",
   "metadata": {},
   "source": [
    "### Workflow: NFT Template Creation\n"
   ]
  },
  {
   "cell_type": "code",
   "execution_count": null,
   "id": "779d2b33",
   "metadata": {},
   "outputs": [],
   "source": [
    "with Session.begin() as session:\n",
    "    admin = Admin.get_by_paymail(session, WORKFLOW_ADMIN_PAYMAIL)\n",
    "    if admin is None:\n",
    "        raise RuntimeError(\"Run the admin registration example first.\")\n",
    "\n",
    "    template = NFTTemplate(\n",
    "        prefix=WORKFLOW_TEMPLATE_PREFIX,\n",
    "        name=WORKFLOW_TEMPLATE_NAME,\n",
    "        category=\"event\",\n",
    "        subcategory=WORKFLOW_TEMPLATE_SUBCATOGERY,\n",
    "        created_by_admin_id=admin.id,\n",
    "        description=\"Issued during the workflow walkthrough example.\",\n",
    "        triggers_bingo_card=True,\n",
    "    )\n",
    "    session.add(template)\n",
    "    session.flush()\n",
    "    print(\n",
    "        f\"Created template id={template.id} (triggers_bingo_card={template.triggers_bingo_card})\"\n",
    "    )"
   ]
  },
  {
   "cell_type": "markdown",
   "id": "a1023b4a",
   "metadata": {},
   "source": [
    "### Workflow: NFT Creation and Issuance to a User"
   ]
  },
  {
   "cell_type": "markdown",
   "id": "0c6605ef",
   "metadata": {},
   "source": [
    "**Note:** The following example involves **real** blockchain interaction. Therefore it requires:\n",
    "- The `.env` file to be set up properly.\n",
    "- The user to have a **valid paymail**, which is stored in `User.paymail` field.\n",
    "\n",
    "If the paymail is not valid, the minting process will fail with an HTTP 400 Bad Request error.\n"
   ]
  },
  {
   "cell_type": "code",
   "execution_count": null,
   "id": "fbe9dd13",
   "metadata": {},
   "outputs": [],
   "source": [
    "with Session.begin() as session:\n",
    "    user = User.get_by_in_app_id(session, WORKFLOW_USER_IN_APP_ID)\n",
    "    template = NFTTemplate.get_by_prefix(session, WORKFLOW_TEMPLATE_PREFIX)\n",
    "    if user is None or template is None:\n",
    "        raise RuntimeError(\"Ensure the user and template exist before minting.\")\n",
    "\n",
    "    nft = workflows.create_and_issue_nft(\n",
    "        session=session,\n",
    "        user=user,\n",
    "        shared_key=WORKFLOW_SHARED_KEY,\n",
    "        nft_template=template,\n",
    "    )\n",
    "    \n",
    "    print(f\"Minted NFT id={nft.id} with origin={nft.origin}\")\n",
    "    print(f\"User now owns {len(user.nfts)} NFT(s).\")"
   ]
  },
  {
   "cell_type": "markdown",
   "id": "3d0d754a",
   "metadata": {},
   "source": [
    "### Workflow: User Bingo Card Info Update\n",
    "\n",
    "**Note:** Normally it is not necessary to call these methods directly, as the bingo card and cell info is automatically updated when the user gets a new NFT issued via the `create_and_issue_nft` workflow. This workflow is only needed when the bingo card or cell info gets out of sync for some reason."
   ]
  },
  {
   "cell_type": "code",
   "execution_count": null,
   "id": "bd5265c9",
   "metadata": {},
   "outputs": [],
   "source": [
    "with Session.begin() as session:\n",
    "    user = User.get_by_in_app_id(session, WORKFLOW_USER_IN_APP_ID)\n",
    "    if user is None:\n",
    "        raise RuntimeError(\"Run the user registration example first.\")\n",
    "\n",
    "    before_cards = len(user.bingo_cards)\n",
    "    workflows.update_user_bingo_info(session, user)\n",
    "    session.expire(user, [\"bingo_cards\"])\n",
    "    after_cards = len(user.bingo_cards)\n",
    "\n",
    "    print(f\"Bingo cards before update: {before_cards}\")\n",
    "    print(f\"Bingo cards after update: {after_cards}\")"
   ]
  },
  {
   "cell_type": "markdown",
   "id": "d56f7828",
   "metadata": {},
   "source": [
    "### Workflow: Bingo Card Information Request\n"
   ]
  },
  {
   "cell_type": "markdown",
   "id": "c38aa7c9",
   "metadata": {},
   "source": [
    "You can get the user's bingo card information as a dictionary (JSON) or a JSON string, either in full or in a compact form."
   ]
  },
  {
   "cell_type": "code",
   "execution_count": null,
   "id": "65fb0f91",
   "metadata": {},
   "outputs": [],
   "source": [
    "with Session.begin() as session:\n",
    "    user = User.get_by_in_app_id(session, WORKFLOW_USER_IN_APP_ID)\n",
    "    if user is None:\n",
    "        raise RuntimeError(\"Run the user registration example first.\")\n",
    "\n",
    "    # full_payload = user.bingo_cards_json()\n",
    "    # full_payload_str = json.dumps(full_payload, indent=2, ensure_ascii=False)\n",
    "    compact_payload = user.bingo_cards_json(compact=True)\n",
    "    compact_payload_str = user.bingo_cards_json_str(compact=True)\n",
    "    print(\"Compact JSON string:\")\n",
    "    print(compact_payload_str)"
   ]
  },
  {
   "cell_type": "code",
   "execution_count": null,
   "id": "469249bc",
   "metadata": {},
   "outputs": [],
   "source": [
    "# For better readability in Jupyter notebooks\n",
    "compact_payload"
   ]
  },
  {
   "cell_type": "code",
   "execution_count": null,
   "id": "fab4ad8d",
   "metadata": {},
   "outputs": [],
   "source": []
  }
 ],
 "metadata": {
  "kernelspec": {
   "display_name": "nict",
   "language": "python",
   "name": "python3"
  },
  "language_info": {
   "codemirror_mode": {
    "name": "ipython",
    "version": 3
   },
   "file_extension": ".py",
   "mimetype": "text/x-python",
   "name": "python",
   "nbconvert_exporter": "python",
   "pygments_lexer": "ipython3",
   "version": "3.13.5"
  }
 },
 "nbformat": 4,
 "nbformat_minor": 5
}
